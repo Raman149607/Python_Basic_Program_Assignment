{
 "cells": [
  {
   "cell_type": "markdown",
   "id": "polar-parts",
   "metadata": {},
   "source": [
    "<h3>Question1</h3>\n",
    "\n",
    "Create a function that takes three integer arguments (a, b, c) and returns the amount of integers which are of equal value.\n",
    "\n",
    "Examples\n",
    "\n",
    "equal(3, 4, 3) ➞ 2\n",
    "\n",
    "equal(1, 1, 1) ➞ 3\n",
    "\n",
    "equal(3, 4, 1) ➞ 0 \n",
    "\n",
    "Notes\n",
    "\n",
    "Your function must return 0, 2 or 3.\n"
   ]
  },
  {
   "cell_type": "code",
   "execution_count": 91,
   "id": "swiss-silver",
   "metadata": {},
   "outputs": [
    {
     "name": "stdout",
     "output_type": "stream",
     "text": [
      "Enter the value of a=3\n",
      "Enter the value of b=4\n",
      "Enter the value of c=3\n",
      "equal(3,4,3)➞ 2\n",
      "Enter the value of a=1\n",
      "Enter the value of b=1\n",
      "Enter the value of c=1\n",
      "equal(1,1,1)➞ 3\n",
      "Enter the value of a=3\n",
      "Enter the value of b=4\n",
      "Enter the value of c=1\n",
      "equal(3,4,1)➞ 0\n"
     ]
    }
   ],
   "source": [
    "def equal(a,b,c):\n",
    "    t=(a,b,c)\n",
    "    x=t.count(a)\n",
    "    y=t.count(b)\n",
    "    if x > 1:\n",
    "        print(\"equal({},{},{})➞\".format(a,b,c),x)\n",
    "    elif y > 1:\n",
    "        print(\"equal({},{},{})➞\".format(a,b,c),y)\n",
    "    else:\n",
    "        print(\"equal({},{},{})➞\".format(a,b,c),x-1)\n",
    "    \n",
    "        \n",
    "for i in range(3):\n",
    "    a=int(input(\"Enter the value of a=\"))\n",
    "    b=int(input(\"Enter the value of b=\"))\n",
    "    c=int(input(\"Enter the value of c=\"))\n",
    "    equal(a,b,c)\n",
    "    "
   ]
  },
  {
   "cell_type": "markdown",
   "id": "embedded-implement",
   "metadata": {},
   "source": [
    "<h3>Question2</h3>"
   ]
  },
  {
   "cell_type": "markdown",
   "id": "artificial-landscape",
   "metadata": {},
   "source": [
    "Write a function that converts a dictionary into a list of keys-values tuples.\n",
    "\n",
    "Examples\n",
    "\n",
    "dict_to_list({\n",
    "  \"D\": 1,\n",
    "  \"B\": 2,\n",
    "  \"C\": 3\n",
    "}) ➞ [(\"B\", 2), (\"C\", 3), (\"D\", 1)]\n",
    "\n",
    "dict_to_list({\n",
    "  \"likes\": 2,\n",
    "  \"dislikes\": 3,\n",
    "  \"followers\": 10\n",
    "}) ➞ [(\"dislikes\", 3), (\"followers\", 10), (\"likes\", 2)]\n",
    "\n",
    "Notes\n",
    "\n",
    "Return the elements in the list in alphabetical order."
   ]
  },
  {
   "cell_type": "code",
   "execution_count": 94,
   "id": "israeli-folder",
   "metadata": {},
   "outputs": [
    {
     "name": "stdout",
     "output_type": "stream",
     "text": [
      "Enter the length of dictionary3\n",
      "likes 2\n",
      "dislikes 3\n",
      "followers 10\n",
      "{'likes': '2', 'dislikes': '3', 'followers': '10'}\n",
      "[('dislikes', 3), ('followers', 10), ('likes', 2)]\n"
     ]
    }
   ],
   "source": [
    "d={}\n",
    "n=int(input(\"Enter the length of dictionary\"))\n",
    "d=dict(input().split() for i in range(n))\n",
    "\n",
    "def dict_to_list(d):\n",
    "    print(d)\n",
    "    lst=[]\n",
    "    lst=[(k,int(v)) for k,v in d.items()]\n",
    "    print(sorted(lst))\n",
    "dict_to_list(d)"
   ]
  },
  {
   "cell_type": "markdown",
   "id": "about-provincial",
   "metadata": {},
   "source": [
    "<h3>Question3</h3>"
   ]
  },
  {
   "cell_type": "markdown",
   "id": "compatible-holocaust",
   "metadata": {},
   "source": [
    "Write a function that creates a dictionary with each (key, value) pair being the (lower case, upper case) versions of a letter, respectively.\n",
    "\n",
    "Examples\n",
    "\n",
    "mapping([\"p\", \"s\"]) ➞ { \"p\": \"P\", \"s\": \"S\" }\n",
    "\n",
    "mapping([\"a\", \"b\", \"c\"]) ➞ { \"a\": \"A\", \"b\": \"B\", \"c\": \"C\" }\n",
    "\n",
    "mapping([\"a\", \"v\", \"y\", \"z\"]) ➞ { \"a\": \"A\", \"v\": \"V\", \"y\": \"Y\", \"z\": \"Z\" }\n",
    "\n",
    "Notes\n",
    "\n",
    "All of the letters in the input list will always be lowercase.\n"
   ]
  },
  {
   "cell_type": "code",
   "execution_count": 103,
   "id": "clinical-southeast",
   "metadata": {},
   "outputs": [
    {
     "name": "stdout",
     "output_type": "stream",
     "text": [
      "Enter the length of list4\n",
      "Enter the letters in lowercase\n",
      "a\n",
      "Enter the letters in lowercase\n",
      "v\n",
      "Enter the letters in lowercase\n",
      "y\n",
      "Enter the letters in lowercase\n",
      "z\n",
      "['a', 'v', 'y', 'z']\n",
      "{'a': 'A', 'v': 'V', 'y': 'Y', 'z': 'Z'}\n"
     ]
    }
   ],
   "source": [
    "n=int(input(\"Enter the length of list\"))\n",
    "lst1=list(input(\"Enter the letters in lowercase\\n\") for i in range(n))\n",
    "def mapping(lst1):\n",
    "    lst2=[]\n",
    "    d={}\n",
    "    print(lst1)\n",
    "    for i in lst1:\n",
    "        u=i.upper()\n",
    "        lst2.append(u)\n",
    "    for i in range(len(lst1)):\n",
    "        d=dict(zip(lst1,lst2))\n",
    "    print(d)\n",
    "         \n",
    "mapping(lst1)"
   ]
  },
  {
   "cell_type": "markdown",
   "id": "coral-movement",
   "metadata": {},
   "source": [
    "<h3>Question4</h3>"
   ]
  },
  {
   "cell_type": "markdown",
   "id": "reasonable-jordan",
   "metadata": {},
   "source": [
    "Write a function, that replaces all vowels in a string with a specified vowel.\n",
    "\n",
    "Examples\n",
    "\n",
    "vow_replace(\"apples and bananas\", \"u\") ➞ \"upplus und bununus\"\n",
    "\n",
    "vow_replace(\"cheese casserole\", \"o\") ➞ \"chooso cossorolo\"\n",
    "\n",
    "vow_replace(\"stuffed jalapeno poppers\", \"e\") ➞ \"steffed jelepene peppers\"\n",
    "\n",
    "Notes\n",
    "\n",
    "All words will be lowercase. Y is not considered a vowel.\n"
   ]
  },
  {
   "cell_type": "code",
   "execution_count": 156,
   "id": "about-egyptian",
   "metadata": {},
   "outputs": [
    {
     "name": "stdout",
     "output_type": "stream",
     "text": [
      "Enter the String in lowercase\n",
      "stuffed jalapeno poppers\n",
      "stuffed jalapeno poppers\n",
      "Enter the vowel to replace\n",
      "e\n",
      "The string after replacing with specified vowel e -> steffed jelepene peppers\n"
     ]
    }
   ],
   "source": [
    "str1=input(\"Enter the String in lowercase\\n\")\n",
    "def vow_replace(str1):\n",
    "    v=[\"a\",\"e\",\"i\",\"o\",\"u\"]\n",
    "    print(str1)\n",
    "    ch=input(\"Enter the vowel to replace\\n\")\n",
    "    for x in v:\n",
    "        str1=str1.replace(x,ch)\n",
    "    print(\"The string after replacing with specified vowel {} ->\".format(ch),str1)\n",
    "            \n",
    "vow_replace(str1)"
   ]
  },
  {
   "cell_type": "markdown",
   "id": "editorial-tokyo",
   "metadata": {},
   "source": [
    "<h3>Question5</h3>"
   ]
  },
  {
   "cell_type": "markdown",
   "id": "moved-entry",
   "metadata": {},
   "source": [
    "Create a function that takes a string as input and capitalizes a letter if its ASCII code is even and returns its lower case version if its ASCII code is odd.\n",
    "\n",
    "Examples\n",
    "\n",
    "ascii_capitalize(\"to be or not to be!\") ➞ \"To Be oR NoT To Be!\"\n",
    "\n",
    "ascii_capitalize(\"THE LITTLE MERMAID\") ➞ \"THe LiTTLe meRmaiD\"\n",
    "\n",
    "ascii_capitalize(\"Oh what a beautiful morning.\") ➞ \"oH wHaT a BeauTiFuL moRNiNg.\""
   ]
  },
  {
   "cell_type": "code",
   "execution_count": 161,
   "id": "rolled-marketplace",
   "metadata": {},
   "outputs": [
    {
     "name": "stdout",
     "output_type": "stream",
     "text": [
      "Enter the String\n",
      "to be or not to be!\n",
      "to be or not to be!\n",
      "To Be oR NoT To Be!\n"
     ]
    }
   ],
   "source": [
    "str1=input(\"Enter the String\\n\")\n",
    "def ascii_capitalize(str1):\n",
    "    print(str1)\n",
    "    str2=\"\"\n",
    "    for i in str1:\n",
    "        if ord(i)%2==0:\n",
    "            ch=i.upper()\n",
    "        else:\n",
    "            ch=i.lower()\n",
    "        str2=str2+ch\n",
    "    print(str2)\n",
    "    \n",
    "ascii_capitalize(str1)"
   ]
  }
 ],
 "metadata": {
  "kernelspec": {
   "display_name": "Python 3",
   "language": "python",
   "name": "python3"
  },
  "language_info": {
   "codemirror_mode": {
    "name": "ipython",
    "version": 3
   },
   "file_extension": ".py",
   "mimetype": "text/x-python",
   "name": "python",
   "nbconvert_exporter": "python",
   "pygments_lexer": "ipython3",
   "version": "3.7.10"
  }
 },
 "nbformat": 4,
 "nbformat_minor": 5
}
