{
 "cells": [
  {
   "cell_type": "markdown",
   "id": "ongoing-marijuana",
   "metadata": {},
   "source": [
    "<h3>Question1</h3>"
   ]
  },
  {
   "cell_type": "markdown",
   "id": "earned-island",
   "metadata": {},
   "source": [
    "Create a function that takes an integer and returns a list from 1 to the given number, where:\n",
    "\n",
    "If the number can be divided evenly by 4, amplify it by 10 (i.e. return 10 times the number).\n",
    "\n",
    "If the number cannot be divided evenly by 4, simply return the number.\n",
    "\n",
    "Examples:\n",
    "\n",
    "amplify(4) ➞ [1, 2, 3, 40]\n",
    "\n",
    "amplify(3) ➞ [1, 2, 3]\n",
    "\n",
    "amplify(25) ➞ [1, 2, 3, 40, 5, 6, 7, 80, 9, 10, 11, 120, 13, 14, 15, 160, 17, 18, 19, 200, 21, 22, 23, 240, 25]"
   ]
  },
  {
   "cell_type": "code",
   "execution_count": 71,
   "id": "sexual-finder",
   "metadata": {},
   "outputs": [
    {
     "name": "stdout",
     "output_type": "stream",
     "text": [
      "Enter the range of the list25\n",
      "[1, 2, 3, 4, 5, 6, 7, 8, 9, 10, 11, 12, 13, 14, 15, 16, 17, 18, 19, 20, 21, 22, 23, 24, 25]\n",
      "amplify(25)-> [1, 2, 3, 40, 5, 6, 7, 80, 9, 10, 11, 120, 13, 14, 15, 160, 17, 18, 19, 200, 21, 22, 23, 240, 25]\n"
     ]
    }
   ],
   "source": [
    "n=int(input(\"Enter the range of the list\"))\n",
    "lst=[]\n",
    "for i in range(1,n+1):\n",
    "    lst.append(i)\n",
    "\n",
    "def amplify(lst):\n",
    "    print(lst)\n",
    "    lst=[i*10 if i%4==0 else i for i in lst]\n",
    "    print(\"amplify({})->\".format(n),lst)\n",
    "    \n",
    "amplify(lst)"
   ]
  },
  {
   "cell_type": "markdown",
   "id": "located-sculpture",
   "metadata": {},
   "source": [
    "<h3>Question2</h3>"
   ]
  },
  {
   "cell_type": "markdown",
   "id": "ruled-average",
   "metadata": {},
   "source": [
    "Create a function that takes a list of numbers and return the number that's unique.\n",
    "\n",
    "Examples\n",
    "\n",
    "unique([3, 3, 3, 7, 3, 3]) ➞ 7\n",
    "\n",
    "unique([0, 0, 0.77, 0, 0]) ➞ 0.77\n",
    "\n",
    "unique([0, 1, 1, 1, 1, 1, 1, 1]) ➞ 0\n",
    "\n",
    "Notes\n",
    "\n",
    "Test cases will always have exactly one unique number while all others are the same.\n"
   ]
  },
  {
   "cell_type": "code",
   "execution_count": 83,
   "id": "applied-check",
   "metadata": {},
   "outputs": [
    {
     "name": "stdout",
     "output_type": "stream",
     "text": [
      "Enter the range of the list5\n",
      "Enter the numbers that will exactly have one unique number while all others are the same.\n",
      "0\n",
      "0\n",
      "0.77\n",
      "0\n",
      "0\n",
      "The list is  ['0', '0', '0.77', '0', '0']\n",
      "The unique number in list is 0.77\n"
     ]
    }
   ],
   "source": [
    "n=int(input(\"Enter the range of the list\"))\n",
    "lst=[]\n",
    "print(\"Enter the numbers that will exactly have one unique number while all others are the same.\")\n",
    "for i in range(n):\n",
    "    lst.append(input())\n",
    "    \n",
    "def unique(lst):\n",
    "    print(\"The list is \",lst)\n",
    "    for i  in range(len(lst)):\n",
    "        if lst[i]!=lst[i+1]:\n",
    "            print(\"The unique number in list is\",lst[i+1])\n",
    "            break\n",
    "                  \n",
    "unique(lst)\n"
   ]
  },
  {
   "cell_type": "markdown",
   "id": "biblical-serve",
   "metadata": {},
   "source": [
    "<h3>Question3</h3>"
   ]
  },
  {
   "cell_type": "markdown",
   "id": "revolutionary-somalia",
   "metadata": {},
   "source": [
    "Your task is to create a Circle constructor that creates a circle with a radius provided by an argument.\n",
    "\n",
    "The circles constructed must have two getters getArea() (PIr^2) and getPerimeter() (2PI*r) which give both respective areas and perimeter (circumference).\n",
    "\n",
    "For help with this class, I have provided you with a Rectangle constructor which you can use as a base example.\n",
    "\n",
    "Examples\n",
    "\n",
    "circy = Circle(11)\n",
    "\n",
    "circy.getArea()\n",
    "\n",
    "Should return 380.132711084365\n",
    "\n",
    "circy = Circle(4.44)\n",
    "\n",
    "circy.getPerimeter()\n",
    "\n",
    "Should return 27.897342763877365\n",
    "\n",
    "Notes\n",
    "\n",
    "Round results up to the nearest integer.\n"
   ]
  },
  {
   "cell_type": "code",
   "execution_count": 115,
   "id": "fifth-vertical",
   "metadata": {},
   "outputs": [
    {
     "name": "stdout",
     "output_type": "stream",
     "text": [
      "Enter the radius of the circle11\n",
      "The Area of Circle is 380\n",
      "The Perimeter of Circle is 69\n"
     ]
    }
   ],
   "source": [
    "import math\n",
    "class Circle:\n",
    "    \n",
    "    #constructor\n",
    "    def __init__(self,radius):\n",
    "        self.radius=radius\n",
    "    \n",
    "    # function to calculate area of circle\n",
    "    \n",
    "    def getArea(self):\n",
    "        area=math.pi*self.radius**2\n",
    "        print(\"The Area of Circle is\",round(area))\n",
    "    \n",
    "    # function to calculate perimeter of a circle\n",
    "    \n",
    "    def getPerimeter(self):\n",
    "        per=2*math.pi*self.radius\n",
    "        print(\"The Perimeter of Circle is\",round(per))\n",
    "        \n",
    "\n",
    "radius=float(input(\"Enter the radius of the circle\"))\n",
    "circy=Circle(radius)\n",
    "circy.getArea()\n",
    "circy.getPerimeter()\n",
    "    \n",
    "    "
   ]
  },
  {
   "cell_type": "markdown",
   "id": "effective-accounting",
   "metadata": {},
   "source": [
    "<h3>Question4</h3>"
   ]
  },
  {
   "cell_type": "markdown",
   "id": "sweet-roads",
   "metadata": {},
   "source": [
    "Create a function that takes a list of strings and return a list, sorted from shortest to longest.\n",
    "\n",
    "Examples\n",
    "\n",
    "sort_by_length([\"Google\", \"Apple\", \"Microsoft\"])\n",
    "➞ [\"Apple\", \"Google\", \"Microsoft\"]\n",
    "\n",
    "sort_by_length([\"Leonardo\", \"Michelangelo\", \"Raphael\", \"Donatello\"])\n",
    "➞ [\"Raphael\", \"Leonardo\", \"Donatello\", \"Michelangelo\"]\n",
    "\n",
    "sort_by_length([\"Turing\", \"Einstein\", \"Jung\"])\n",
    "➞ [\"Jung\", \"Turing\", \"Einstein\"]\n",
    "\n",
    "Notes\n",
    "\n",
    "All test cases contain lists with strings of different lengths, so you won't have to deal with multiple strings of the same \n",
    "length."
   ]
  },
  {
   "cell_type": "code",
   "execution_count": 92,
   "id": "hispanic-dispute",
   "metadata": {},
   "outputs": [
    {
     "name": "stdout",
     "output_type": "stream",
     "text": [
      "Enter the range of list4\n",
      "Enter the strings\n",
      "Leonardo\n",
      "Michelangelo\n",
      "Raphael\n",
      "Donatello\n",
      "The list is \n",
      " ['Leonardo', 'Michelangelo', 'Raphael', 'Donatello']\n",
      "The sorted list from shortest to longest is\n",
      " ['Raphael', 'Leonardo', 'Donatello', 'Michelangelo']\n"
     ]
    }
   ],
   "source": [
    "n=int(input(\"Enter the range of list\"))\n",
    "lst=[]\n",
    "print(\"Enter the strings\")\n",
    "for i in range(n):\n",
    "    lst.append(input())\n",
    "\n",
    "def sort_by_length(lst):\n",
    "    print(\"The list is \\n\",lst)\n",
    "    lst=sorted(lst,key=len)\n",
    "    print(\"The sorted list from shortest to longest is\\n\",lst)\n",
    "    \n",
    "sort_by_length(lst)"
   ]
  },
  {
   "cell_type": "markdown",
   "id": "pending-element",
   "metadata": {},
   "source": [
    "<h3>Question5</h3>"
   ]
  },
  {
   "cell_type": "markdown",
   "id": "auburn-shade",
   "metadata": {},
   "source": [
    "Create a function that validates whether three given integers form a Pythagorean triplet. The sum of the squares of the two smallest integers must equal the square of the largest number to be validated.\n",
    "\n",
    "\n",
    "Examples\n",
    "\n",
    "is_triplet(3, 4, 5) ➞ True\n",
    "\n",
    " 3² + 4² = 25\n",
    " \n",
    " 5² = 25\n",
    "\n",
    "is_triplet(13, 5, 12) ➞ True\n",
    "\n",
    "5² + 12² = 169\n",
    "\n",
    "13² = 169\n",
    "\n",
    "is_triplet(1, 2, 3) ➞ False"
   ]
  },
  {
   "cell_type": "code",
   "execution_count": 107,
   "id": "centered-brazilian",
   "metadata": {},
   "outputs": [
    {
     "name": "stdout",
     "output_type": "stream",
     "text": [
      "Enter the value of p=13\n",
      "Enter the value of q=5\n",
      "Enter the value of r=12\n",
      "13 5 12\n",
      "The given Integer is a Pythagorean Triplet \n"
     ]
    }
   ],
   "source": [
    "p=int(input(\"Enter the value of p=\"))\n",
    "q=int(input(\"Enter the value of q=\"))\n",
    "r=int(input(\"Enter the value of r=\"))\n",
    "\n",
    "def is_triplet(p,q,r):\n",
    "    print(p,q,r)\n",
    "    lst=[p,q,r]\n",
    "    (x,y,z)=sorted(lst)\n",
    "    a=(x*x)+(y*y)\n",
    "    b=z*z\n",
    "    if a==b:\n",
    "        print(\"The given Integer is a Pythagorean Triplet \")\n",
    "    else:\n",
    "        print(\"The given Integer is not a Pythagorean Triplet \")\n",
    "     \n",
    "    \n",
    "is_triplet(p,q,r)"
   ]
  },
  {
   "cell_type": "code",
   "execution_count": null,
   "id": "serious-stupid",
   "metadata": {},
   "outputs": [],
   "source": []
  }
 ],
 "metadata": {
  "kernelspec": {
   "display_name": "Python 3",
   "language": "python",
   "name": "python3"
  },
  "language_info": {
   "codemirror_mode": {
    "name": "ipython",
    "version": 3
   },
   "file_extension": ".py",
   "mimetype": "text/x-python",
   "name": "python",
   "nbconvert_exporter": "python",
   "pygments_lexer": "ipython3",
   "version": "3.7.10"
  }
 },
 "nbformat": 4,
 "nbformat_minor": 5
}
