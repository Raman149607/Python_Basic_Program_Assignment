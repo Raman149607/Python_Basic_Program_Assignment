{
 "cells": [
  {
   "cell_type": "markdown",
   "id": "immediate-throat",
   "metadata": {},
   "source": [
    "<h3>Question1</h3>"
   ]
  },
  {
   "cell_type": "markdown",
   "id": "undefined-symphony",
   "metadata": {},
   "source": [
    "Create a function that takes three parameters where:\n",
    "\n",
    "x is the start of the range (inclusive).\n",
    "\n",
    "y is the end of the range (inclusive).\n",
    "\n",
    "n is the divisor to be checked against.\n",
    "\n",
    "Return an ordered list with numbers in the range that are divisible by the third parameter n. Return an empty list if there are no numbers that are divisible by n.\n",
    "\n",
    "Examples\n",
    "\n",
    "list_operation(1, 10, 3) ➞ [3, 6, 9]\n",
    "\n",
    "list_operation(7, 9, 2) ➞ [8]\n",
    "\n",
    "list_operation(15, 20, 7) ➞ []"
   ]
  },
  {
   "cell_type": "code",
   "execution_count": 10,
   "id": "supposed-printer",
   "metadata": {},
   "outputs": [
    {
     "name": "stdout",
     "output_type": "stream",
     "text": [
      "Enter the start of the range1\n",
      "Enter the endd of the range10\n",
      "Enter the divisor to be checked3\n",
      "1 10 3\n",
      "list_operation(1,10,3) ➞ [3, 6, 9]\n"
     ]
    }
   ],
   "source": [
    "x=int(input(\"Enter the start of the range\"))\n",
    "y=int(input(\"Enter the endd of the range\"))\n",
    "n=int(input(\"Enter the divisor to be checked\"))\n",
    "\n",
    "def list_operation(x,y,n):\n",
    "    print(x,y,n)\n",
    "    lst=[]\n",
    "    for i in range(x,y+1):\n",
    "        if i%n==0:\n",
    "            lst.append(i)\n",
    "    print(\"list_operation({},{},{}) ➞\".format(x,y,n),lst)\n",
    "        \n",
    "list_operation(x,y,n)"
   ]
  },
  {
   "cell_type": "markdown",
   "id": "preceding-monster",
   "metadata": {},
   "source": [
    "<h3>Question2</h3>"
   ]
  },
  {
   "cell_type": "markdown",
   "id": "unlimited-outside",
   "metadata": {},
   "source": [
    "Create a function that takes in two lists and returns True if the second list follows the first list by one element, and False otherwise. \n",
    "\n",
    "In other words, determine if the second list is the first list shifted to the right by 1.\n",
    "\n",
    "Examples\n",
    "\n",
    "simon_says([1, 2], [5, 1]) ➞ True\n",
    "\n",
    "simon_says([1, 2], [5, 5]) ➞ False\n",
    "\n",
    "simon_says([1, 2, 3, 4, 5], [0, 1, 2, 3, 4]) ➞ True\n",
    "\n",
    "simon_says([1, 2, 3, 4, 5], [5, 5, 1, 2, 3]) ➞ False\n",
    "\n",
    "Notes\n",
    "\n",
    "Both input lists will be of the same length, and will have a minimum length of 2.\n",
    "\n",
    "The values of the 0-indexed element in the second list and the n-1th indexed element in the first list do not matter."
   ]
  },
  {
   "cell_type": "code",
   "execution_count": 29,
   "id": "south-quantity",
   "metadata": {},
   "outputs": [
    {
     "name": "stdout",
     "output_type": "stream",
     "text": [
      "Enter the length of list5\n",
      "Enter the elements of list1\n",
      "1\n",
      "2\n",
      "3\n",
      "4\n",
      "5\n",
      "Enter the elements of list2\n",
      "0\n",
      "1\n",
      "2\n",
      "3\n",
      "4\n",
      "First List = [1, 2, 3, 4, 5]\n",
      "Second List = [0, 1, 2, 3, 4]\n",
      "simon_says([1, 2, 3, 4, 5],[0, 1, 2, 3, 4]) ➞ True\n"
     ]
    }
   ],
   "source": [
    "n=int(input(\"Enter the length of list\"))\n",
    "print(\"Enter the elements of list1\")\n",
    "lst1=[int(input()) for i in range(n)]\n",
    "print(\"Enter the elements of list2\")\n",
    "lst2=[int(input()) for i in range(n)]\n",
    "\n",
    "def simon_says(lst1,lst2):\n",
    "    print(\"First List =\",lst1)\n",
    "    print(\"Second List =\",lst2)\n",
    "    for i in range(n):\n",
    "        if lst1[i]==lst2[i+1]:\n",
    "            print(\"simon_says({},{}) ➞\".format(lst1,lst2),True)\n",
    "            break\n",
    "        else:\n",
    "            print(\"simon_says({},{}) ➞\".format(lst1,lst2),False)\n",
    "            break\n",
    "    \n",
    "simon_says(lst1,lst2)\n"
   ]
  },
  {
   "cell_type": "markdown",
   "id": "spectacular-blocking",
   "metadata": {},
   "source": [
    "<h3>Question3</h3>"
   ]
  },
  {
   "cell_type": "markdown",
   "id": "radical-tribute",
   "metadata": {},
   "source": [
    "A group of friends have decided to start a secret society. The name will be the first letter of each of their names, sorted in alphabetical order.\n",
    "\n",
    "Create a function that takes in a list of names and returns the name of the secret society.\n",
    "\n",
    "Examples\n",
    "\n",
    "society_name([\"Adam\", \"Sarah\", \"Malcolm\"]) ➞ \"AMS\"\n",
    "\n",
    "society_name([\"Harry\", \"Newt\", \"Luna\", \"Cho\"]) ➞ \"CHLN\"\n",
    "\n",
    "society_name([\"Phoebe\", \"Chandler\", \"Rachel\", \"Ross\", \"Monica\", \"Joey\"]) ➞ \"CJMPRR\"\n"
   ]
  },
  {
   "cell_type": "code",
   "execution_count": 45,
   "id": "transsexual-mission",
   "metadata": {},
   "outputs": [
    {
     "name": "stdout",
     "output_type": "stream",
     "text": [
      "Enter the length of list4\n",
      "Enter the list of strings\n",
      "Harry\n",
      "Newt\n",
      "Luna\n",
      "Cho\n",
      "List of Names = ['Harry', 'Newt', 'Luna', 'Cho']\n",
      "society_name(['Harry', 'Newt', 'Luna', 'Cho']) ➞ CHLN"
     ]
    }
   ],
   "source": [
    "n=int(input(\"Enter the length of list\"))\n",
    "print(\"Enter the list of strings\")\n",
    "lst=[input() for i in range(n)]\n",
    "\n",
    "def society_name(lst):\n",
    "    print(\"List of Names =\",lst)\n",
    "    lst1=sorted(lst)\n",
    "    print(\"society_name({}) ➞ \".format(lst),end=\"\")\n",
    "    for i in lst1:\n",
    "        x=str(i)\n",
    "        for y in x:\n",
    "            print(y,end=\"\")\n",
    "            break\n",
    "    \n",
    "\n",
    "society_name(lst)"
   ]
  },
  {
   "cell_type": "markdown",
   "id": "experienced-drama",
   "metadata": {},
   "source": [
    "<h3>Question4</h3>"
   ]
  },
  {
   "cell_type": "markdown",
   "id": "mineral-madrid",
   "metadata": {},
   "source": [
    "An isogram is a word that has no duplicate letters. Create a function that takes a string and returns either True or False depending on whether or not it's an \"isogram\".\n",
    "\n",
    "Examples\n",
    "\n",
    "is_isogram(\"Algorism\") ➞ True\n",
    "\n",
    "is_isogram(\"PasSword\") ➞ False\n",
    "(Not case sensitive.)\n",
    "\n",
    "is_isogram(\"Consecutive\") ➞ False\n",
    "\n",
    "Notes\n",
    "\n",
    "Ignore letter case (should not be case sensitive).\n",
    "\n",
    "All test cases contain valid one word strings.\n"
   ]
  },
  {
   "cell_type": "code",
   "execution_count": 93,
   "id": "annoying-execution",
   "metadata": {},
   "outputs": [
    {
     "name": "stdout",
     "output_type": "stream",
     "text": [
      "Enter the String PasSword\n",
      "The String is  PasSword\n",
      "is_isogram(PasSword) ➞  False\n"
     ]
    }
   ],
   "source": [
    "str1=input(\"Enter the String \")\n",
    "def is_isogram(str1):\n",
    "    print(\"The String is \",str1)\n",
    "    str2=str1.lower()\n",
    "    s=set(str2)\n",
    "    print(\"is_isogram({}) ➞ \".format(str1),end=\" \")\n",
    "    if len(str1)==len(s):\n",
    "        print(True)\n",
    "    else:\n",
    "        print(False)\n",
    "            \n",
    "is_isogram(str1)"
   ]
  },
  {
   "cell_type": "markdown",
   "id": "million-humidity",
   "metadata": {},
   "source": [
    "<h3>Question5</h3>"
   ]
  },
  {
   "cell_type": "markdown",
   "id": "blind-desire",
   "metadata": {},
   "source": [
    "Create a function that takes a string and returns True or False, depending on whether the characters are in order or not.\n",
    "\n",
    "Examples\n",
    "\n",
    "is_in_order(\"abc\") ➞ True\n",
    "\n",
    "is_in_order(\"edabit\") ➞ False\n",
    "\n",
    "is_in_order(\"123\") ➞ True\n",
    "\n",
    "is_in_order(\"xyzz\") ➞ True\n",
    "\n",
    "Notes\n",
    "\n",
    "You don't have to handle empty strings\n"
   ]
  },
  {
   "cell_type": "code",
   "execution_count": 124,
   "id": "precious-yellow",
   "metadata": {},
   "outputs": [
    {
     "name": "stdout",
     "output_type": "stream",
     "text": [
      "Enter the string edabit\n",
      "The String is = edabit\n",
      "is_in_order(edabit) ➞ False\n"
     ]
    }
   ],
   "source": [
    "str1=input(\"Enter the string \")\n",
    "def is_in_order(str1):\n",
    "    print(\"The String is =\",str1)\n",
    "    lst=[]\n",
    "    for i in str1:\n",
    "        lst.append(ord(i))\n",
    "    lst1=sorted(lst)\n",
    "    if lst1==lst:\n",
    "        print(\"is_in_order({}) ➞\".format(str1),True)\n",
    "    else:\n",
    "        print(\"is_in_order({}) ➞\".format(str1),False)\n",
    "\n",
    "is_in_order(str1)"
   ]
  }
 ],
 "metadata": {
  "kernelspec": {
   "display_name": "Python 3",
   "language": "python",
   "name": "python3"
  },
  "language_info": {
   "codemirror_mode": {
    "name": "ipython",
    "version": 3
   },
   "file_extension": ".py",
   "mimetype": "text/x-python",
   "name": "python",
   "nbconvert_exporter": "python",
   "pygments_lexer": "ipython3",
   "version": "3.7.10"
  }
 },
 "nbformat": 4,
 "nbformat_minor": 5
}
