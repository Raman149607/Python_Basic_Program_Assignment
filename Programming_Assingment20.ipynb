{
 "cells": [
  {
   "cell_type": "markdown",
   "id": "spiritual-found",
   "metadata": {},
   "source": [
    "<h3>Question1</h3>"
   ]
  },
  {
   "cell_type": "markdown",
   "id": "incorporate-advocacy",
   "metadata": {},
   "source": [
    "Create a function that takes a list of strings and integers, and filters out the list so that it returns a list of integers only.\n",
    "\n",
    "Examples\n",
    "\n",
    "filter_list([1, 2, 3, \"a\", \"b\", 4]) ➞ [1, 2, 3, 4]\n",
    "\n",
    "filter_list([\"A\", 0, \"Edabit\", 1729, \"Python\", \"1729\"]) ➞ [0, 1729]\n",
    "\n",
    "filter_list([\"Nothing\", \"here\"]) ➞ []"
   ]
  },
  {
   "cell_type": "code",
   "execution_count": 50,
   "id": "resident-intro",
   "metadata": {},
   "outputs": [
    {
     "name": "stdout",
     "output_type": "stream",
     "text": [
      "[1, 2, 3, 'a', 'b', 4]\n",
      "List of Integers after filteration = [1, 2, 3, 4]\n",
      "\n",
      "\n",
      "['A', 0, 'Edabit', 1729, 'Python', '1729']\n",
      "List of Integers after filteration = [0, 1729]\n",
      "\n",
      "\n",
      "['Nothing', 'here']\n",
      "List of Integers after filteration = []\n"
     ]
    }
   ],
   "source": [
    "def filter_list(lst):\n",
    "    print(lst)\n",
    "    lst1=list(filter(lambda x: (type(x)==int),lst))\n",
    "    return lst1\n",
    "              \n",
    "    \n",
    "x=filter_list([1, 2, 3, \"a\", \"b\", 4])\n",
    "print(\"List of Integers after filteration =\",x)\n",
    "print(\"\\n\")\n",
    "y=filter_list([\"A\", 0, \"Edabit\", 1729, \"Python\", \"1729\"])\n",
    "print(\"List of Integers after filteration =\",y)\n",
    "print(\"\\n\")\n",
    "z=filter_list([\"Nothing\", \"here\"])\n",
    "print(\"List of Integers after filteration =\",z)"
   ]
  },
  {
   "cell_type": "markdown",
   "id": "smoking-calculator",
   "metadata": {},
   "source": [
    "<h3>Question2</h3>"
   ]
  },
  {
   "cell_type": "markdown",
   "id": "raised-archives",
   "metadata": {},
   "source": [
    "Given a list of numbers, create a function which returns the list but with each element's index in the list added to itself. This means you add 0 to the number at index 0, add 1 to the number at index 1, etc...\n",
    "\n",
    "Examples\n",
    "\n",
    "add_indexes([0, 0, 0, 0, 0]) ➞ [0, 1, 2, 3, 4]\n",
    "\n",
    "add_indexes([1, 2, 3, 4, 5]) ➞ [1, 3, 5, 7, 9]\n",
    "\n",
    "add_indexes([5, 4, 3, 2, 1]) ➞ [5, 5, 5, 5, 5]"
   ]
  },
  {
   "cell_type": "code",
   "execution_count": 64,
   "id": "negative-canada",
   "metadata": {},
   "outputs": [
    {
     "name": "stdout",
     "output_type": "stream",
     "text": [
      "Enter the length of list5\n",
      "Enter the elements of list\n",
      "5\n",
      "4\n",
      "3\n",
      "2\n",
      "1\n",
      "List = [5, 4, 3, 2, 1]\n",
      "The List after adding the indexes = [5, 5, 5, 5, 5]\n"
     ]
    }
   ],
   "source": [
    "n=int(input(\"Enter the length of list\"))\n",
    "print(\"Enter the elements of list\")\n",
    "lst=[int(input()) for i in range(n)]\n",
    "\n",
    "def add_indexes(lst):\n",
    "    print(\"List =\",lst)\n",
    "    lst1=[]\n",
    "    for i in range(n):\n",
    "        lst1.append(lst[i]+i)   \n",
    "    return lst1\n",
    "    \n",
    "x=add_indexes(lst)\n",
    "print(\"The List after adding the indexes =\",x)"
   ]
  },
  {
   "cell_type": "markdown",
   "id": "circular-cement",
   "metadata": {},
   "source": [
    "<h3>Question3</h3>"
   ]
  },
  {
   "cell_type": "markdown",
   "id": "acceptable-color",
   "metadata": {},
   "source": [
    "Create a function that takes the height and radius of a cone as arguments and returns the volume of the cone rounded to the nearest hundredth. See the resources tab for the formula.\n",
    "\n",
    "Examples\n",
    "\n",
    "cone_volume(3, 2) ➞ 12.57\n",
    "\n",
    "cone_volume(15, 6) ➞ 565.49"
   ]
  },
  {
   "cell_type": "code",
   "execution_count": 6,
   "id": "equal-affairs",
   "metadata": {},
   "outputs": [
    {
     "name": "stdout",
     "output_type": "stream",
     "text": [
      "Enter the height of cone15\n",
      "Enter the radius of cone6\n",
      "The Height of Cone is  15.0\n",
      "The Radius of Cone is  6.0\n",
      "The Volume of cone is  565.49\n"
     ]
    }
   ],
   "source": [
    "import math\n",
    "h=float(input(\"Enter the height of cone\"))\n",
    "r=float(input(\"Enter the radius of cone\"))\n",
    "def cone_volume(h,r):\n",
    "    print(\"The Height of Cone is \",h)\n",
    "    print(\"The Radius of Cone is \",r)\n",
    "    vol=(math.pi*r*r*h)/3\n",
    "    return vol\n",
    "\n",
    "x=cone_volume(h,r)\n",
    "print(\"The Volume of cone is \",round(x,2))"
   ]
  },
  {
   "cell_type": "markdown",
   "id": "interesting-smooth",
   "metadata": {},
   "source": [
    "<h3>Question4</h3>"
   ]
  },
  {
   "cell_type": "markdown",
   "id": "light-riverside",
   "metadata": {},
   "source": [
    "This Triangular Number Sequence is generated from a pattern of dots that form a triangle.\n",
    "\n",
    "The first 5 numbers of the sequence, or dots, are: \n",
    "1, 3, 6, 10, 15\n",
    "\n",
    "This means that the first triangle has just one dot, the second one has three dots, the third one has 6 dots and so on.\n",
    "\n",
    "Write a function that gives the number of dots with its corresponding triangle number of the sequence.\n",
    "\n",
    "Examples\n",
    "\n",
    "triangle(1) ➞ 1\n",
    "\n",
    "triangle(6) ➞ 21\n",
    "\n",
    "triangle(215) ➞ 23220"
   ]
  },
  {
   "cell_type": "code",
   "execution_count": 11,
   "id": "incident-bible",
   "metadata": {},
   "outputs": [
    {
     "name": "stdout",
     "output_type": "stream",
     "text": [
      "Enter the number of sequence215\n",
      "The number of dots with its corresponding triangle number of the sequence 215 is 23220\n"
     ]
    }
   ],
   "source": [
    "n=int(input(\"Enter the number of sequence\"))\n",
    "def traingle(n):\n",
    "    dots=0\n",
    "    for i in range(n):\n",
    "        dots=dots+i+1\n",
    "    return dots\n",
    "\n",
    "x=traingle(n)\n",
    "print(\"The number of dots with its corresponding triangle number of the sequence {} is\".format(n),x)"
   ]
  },
  {
   "cell_type": "markdown",
   "id": "cognitive-unemployment",
   "metadata": {},
   "source": [
    "<h3>Question5</h3>"
   ]
  },
  {
   "cell_type": "markdown",
   "id": "precise-liquid",
   "metadata": {},
   "source": [
    "Create a function that takes a list of numbers between 1 and 10 (excluding one number) and returns the missing number.\n",
    "\n",
    "Examples\n",
    "\n",
    "missing_num([1, 2, 3, 4, 6, 7, 8, 9, 10]) ➞ 5\n",
    "\n",
    "missing_num([7, 2, 3, 6, 5, 9, 1, 4, 8]) ➞ 10\n",
    "\n",
    "missing_num([10, 5, 1, 2, 4, 6, 8, 3, 9]) ➞ 7"
   ]
  },
  {
   "cell_type": "code",
   "execution_count": 31,
   "id": "administrative-title",
   "metadata": {},
   "outputs": [
    {
     "name": "stdout",
     "output_type": "stream",
     "text": [
      "Enter the length of list 10\n",
      "Enter the numbers between 1 t0 10 (Excluding one number)\n",
      "7\n",
      "2\n",
      "3\n",
      "6\n",
      "5\n",
      "9\n",
      "1\n",
      "4\n",
      "8\n",
      "List = [7, 2, 3, 6, 5, 9, 1, 4, 8]\n",
      "The missing element in the List is  10\n"
     ]
    }
   ],
   "source": [
    "n=int(input(\"Enter the length of list \"))\n",
    "print(\"Enter the numbers between 1 t0 10 (Excluding one number)\")\n",
    "lst=[int(input()) for i in range(1,n)]\n",
    "def missing_num(lst):\n",
    "    print(\"List =\",lst)\n",
    "    for i in range(1,n+1):\n",
    "        if i not in lst:\n",
    "            return i\n",
    "    \n",
    "    \n",
    "x=missing_num(lst)\n",
    "print(\"The missing element in the List is \",x)"
   ]
  },
  {
   "cell_type": "code",
   "execution_count": null,
   "id": "intellectual-attraction",
   "metadata": {},
   "outputs": [],
   "source": []
  }
 ],
 "metadata": {
  "kernelspec": {
   "display_name": "Python 3",
   "language": "python",
   "name": "python3"
  },
  "language_info": {
   "codemirror_mode": {
    "name": "ipython",
    "version": 3
   },
   "file_extension": ".py",
   "mimetype": "text/x-python",
   "name": "python",
   "nbconvert_exporter": "python",
   "pygments_lexer": "ipython3",
   "version": "3.7.10"
  }
 },
 "nbformat": 4,
 "nbformat_minor": 5
}
