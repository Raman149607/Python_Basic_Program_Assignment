{
 "cells": [
  {
   "cell_type": "markdown",
   "id": "worthy-defensive",
   "metadata": {},
   "source": [
    "<h3>Question1</h3>"
   ]
  },
  {
   "cell_type": "markdown",
   "id": "comprehensive-hopkins",
   "metadata": {},
   "source": [
    "Write a function that takes a list and a number as arguments. Add the number to the end of the list, then remove the first element of the list. The function should then return the updated list.\n",
    "\n",
    "Examples\n",
    "\n",
    "next_in_line([5, 6, 7, 8, 9], 1) ➞ [6, 7, 8, 9, 1]\n",
    "\n",
    "next_in_line([7, 6, 3, 23, 17], 10) ➞ [6, 3, 23, 17, 10]\n",
    "\n",
    "next_in_line([1, 10, 20, 42 ], 6) ➞ [10, 20, 42, 6]\n",
    "\n",
    "next_in_line([], 6) ➞ \"No list has been selected\""
   ]
  },
  {
   "cell_type": "code",
   "execution_count": 27,
   "id": "historical-joseph",
   "metadata": {},
   "outputs": [
    {
     "name": "stdout",
     "output_type": "stream",
     "text": [
      "Enter the length of the list5\n",
      "Enter the elements of the list\n",
      "5\n",
      "6\n",
      "7\n",
      "8\n",
      "9\n",
      "Enter the number to add to the end of the list1\n",
      "The elements of the list =  [5, 6, 7, 8, 9]\n",
      "The number to be added to the end of the list =  1\n",
      "The Updated List = [6, 7, 8, 9, 1]\n"
     ]
    }
   ],
   "source": [
    "n=int(input(\"Enter the length of the list\"))\n",
    "print(\"Enter the elements of the list\")\n",
    "lst=[int(input()) for i in range(n)]\n",
    "num=int(input(\"Enter the number to add to the end of the list\"))\n",
    "def next_in_line(lst,num):\n",
    "    print(\"The elements of the list = \",lst)\n",
    "    print(\"The number to be added to the end of the list = \",num)\n",
    "    if len(lst)==0:\n",
    "        print(\"No list has been selected\")\n",
    "    else:\n",
    "        lst.append(num)\n",
    "        del lst[0]\n",
    "        print(\"The Updated List =\",lst)\n",
    "    \n",
    "next_in_line(lst,num)"
   ]
  },
  {
   "cell_type": "markdown",
   "id": "broken-bulgaria",
   "metadata": {},
   "source": [
    "<h3>Question2</h3>"
   ]
  },
  {
   "cell_type": "markdown",
   "id": "laden-familiar",
   "metadata": {},
   "source": [
    "Create the function that takes a list of dictionaries and returns the sum of people's budgets.\n",
    "\n",
    "Examples\n",
    "\n",
    "get_budgets([\n",
    "\n",
    "  { \"name\": \"John\", \"age\": 21, \"budget\": 23000 },\n",
    "  \n",
    "  { \"name\": \"Steve\",  \"age\": 32, \"budget\": 40000 },\n",
    "  \n",
    "  { \"name\": \"Martin\",  \"age\": 16, \"budget\": 2700 }]) ➞ 65700\n",
    "\n",
    "get_budgets([\n",
    "\n",
    "  { \"name\": \"John\",  \"age\": 21, \"budget\": 29000 },\n",
    "  \n",
    "  { \"name\": \"Steve\",  \"age\": 32, \"budget\": 32000 },\n",
    "  \n",
    "  { \"name\": \"Martin\",  \"age\": 16, \"budget\": 1600 }]) ➞ 62600"
   ]
  },
  {
   "cell_type": "code",
   "execution_count": 77,
   "id": "electronic-robertson",
   "metadata": {},
   "outputs": [
    {
     "name": "stdout",
     "output_type": "stream",
     "text": [
      "Enter the no of dictionaries3\n",
      "Enter the length of dictionary3\n",
      "name Jhon\n",
      "age 21\n",
      "budget 23000\n",
      "name Steve\n",
      "age 32\n",
      "budget 40000\n",
      "name Martin\n",
      "age 16\n",
      "budget 2700\n",
      "[{'name': 'Jhon', 'age': '21', 'budget': '23000'}, {'name': 'Steve', 'age': '32', 'budget': '40000'}, {'name': 'Martin', 'age': '16', 'budget': '2700'}]\n",
      "The sum of people's Budgets = 65700\n"
     ]
    }
   ],
   "source": [
    "m=int(input(\"Enter the no of dictionaries\"))\n",
    "n=int(input(\"Enter the length of dictionary\"))\n",
    "lst=[dict(input().split()for i in range(n))for i in range(m)]\n",
    "\n",
    "def get_budgets(lst):\n",
    "    print(lst)\n",
    "    lst1=[]\n",
    "    new_lst=[{k:v for k,v in i.items() if k==\"budget\"}for i in lst]\n",
    "    for i in new_lst:\n",
    "        for key in i.keys():\n",
    "            lst1.append(int(i[key]))\n",
    "    print(\"The sum of people's Budgets =\",sum(lst1))\n",
    "get_budgets(lst)"
   ]
  },
  {
   "cell_type": "markdown",
   "id": "waiting-cooperative",
   "metadata": {},
   "source": [
    "<h3>Question3</h3>"
   ]
  },
  {
   "cell_type": "markdown",
   "id": "governmental-chaos",
   "metadata": {},
   "source": [
    "Create a function that takes a string and returns a string with its letters in alphabetical order.\n",
    "\n",
    "Examples\n",
    "\n",
    "alphabet_soup(\"hello\") ➞ \"ehllo\"\n",
    "\n",
    "alphabet_soup(\"edabit\") ➞ \"abdeit\"\n",
    "\n",
    "alphabet_soup(\"hacker\") ➞ \"acehkr\"\n",
    "\n",
    "alphabet_soup(\"geek\") ➞ \"eegk\"\n",
    "\n",
    "alphabet_soup(\"javascript\") ➞ \"aacijprstv\""
   ]
  },
  {
   "cell_type": "code",
   "execution_count": 76,
   "id": "naughty-mailman",
   "metadata": {},
   "outputs": [
    {
     "name": "stdout",
     "output_type": "stream",
     "text": [
      "Enter the Stringjavascript\n",
      "The String is  javascript\n",
      "The sorted String is  aacijprstv\n"
     ]
    }
   ],
   "source": [
    "str1=input(\"Enter the String\")\n",
    "\n",
    "def alphabet_soup(str1):\n",
    "    print(\"The String is \",str1)\n",
    "    str2=''.join(sorted(str1))\n",
    "    return str2\n",
    "    \n",
    "s=alphabet_soup(str1)\n",
    "print(\"The sorted String is \",s)"
   ]
  },
  {
   "cell_type": "markdown",
   "id": "noticed-concord",
   "metadata": {},
   "source": [
    "<h3>Question4</h3>"
   ]
  },
  {
   "cell_type": "markdown",
   "id": "metric-level",
   "metadata": {},
   "source": [
    "Suppose that you invest $10,000 for 10 years at an interest rate of 6% compounded monthly. What will be the value of your investment at the end of the 10 year period?\n",
    "Create a function that accepts the principal p, the term in years t, the interest rate r, and the number of compounding periods per year n. The function returns the value at the end of term rounded to the nearest cent.\n",
    "\n",
    "For the example above:\n",
    "    \n",
    "compound_interest(10000, 10, 0.06, 12) ➞ 18193.97\n",
    "\n",
    "Note \n",
    "\n",
    "The interest rate is given as a decimal and n=12 because with monthly compounding there are 12 periods per year. Compounding can also be done annually, quarterly, weekly, or daily.\n",
    "\n",
    "Examples\n",
    "\n",
    "compound_interest(100, 1, 0.05, 1) ➞ 105.0\n",
    "\n",
    "compound_interest(3500, 15, 0.1, 4) ➞ 15399.26\n",
    "\n",
    "compound_interest(100000, 20, 0.15, 365) ➞ 2007316.26"
   ]
  },
  {
   "cell_type": "code",
   "execution_count": 1,
   "id": "prerequisite-phrase",
   "metadata": {},
   "outputs": [
    {
     "name": "stdout",
     "output_type": "stream",
     "text": [
      "Enter the Principal10000\n",
      "Enter the terms in year10\n",
      "Enter the Interest Rate0.06\n",
      "Enter the number of compounding periods per  annually, quarterly, weekly, or daily12\n",
      "10000.0 10.0 0.06 12.0\n",
      "The value at the end of term = 18193.97\n"
     ]
    }
   ],
   "source": [
    "import math\n",
    "\n",
    "p=float(input(\"Enter the Principal\"))\n",
    "t=float(input(\"Enter the terms in year\"))\n",
    "r=float(input(\"Enter the Interest Rate\"))\n",
    "n=float(input(\"Enter the number of compounding periods per  annually, quarterly, weekly, or daily\"))\n",
    "\n",
    "\n",
    "def compound_interest(*args):\n",
    "    print(p,t,r,n)\n",
    "    x=(1+(r/n))\n",
    "    y=(n*t)\n",
    "    CI=p*(math.pow((1+(r/n)),(n*t)))\n",
    "    return CI\n",
    "   \n",
    "    \n",
    "x=compound_interest(p,t,r,n)\n",
    "print(\"The value at the end of term =\",round(x,2))\n"
   ]
  },
  {
   "cell_type": "markdown",
   "id": "passive-bonus",
   "metadata": {},
   "source": [
    "<h3>Question5</h3>"
   ]
  },
  {
   "cell_type": "markdown",
   "id": "opened-ranking",
   "metadata": {},
   "source": [
    "Write a function that takes a list of elements and returns only the integers.\n",
    "\n",
    "Examples\n",
    "\n",
    "return_only_integer([9, 2, \"space\", \"car\", \"lion\", 16]) ➞ [9, 2, 16]\n",
    "\n",
    "return_only_integer([\"hello\", 81, \"basketball\", 123, \"fox\"]) ➞ [81, 123]\n",
    "\n",
    "return_only_integer([10, \"121\", 56, 20, \"car\", 3, \"lion\"]) ➞ [10, 56, 20, 3]\n",
    "\n",
    "return_only_integer([\"String\",  True,  3.3,  1]) ➞ [1]"
   ]
  },
  {
   "cell_type": "code",
   "execution_count": 75,
   "id": "eligible-webmaster",
   "metadata": {},
   "outputs": [
    {
     "name": "stdout",
     "output_type": "stream",
     "text": [
      "Enter the length of the list4\n",
      "Enter the elements of the list\n",
      "String\n",
      "True\n",
      "3.3\n",
      "1\n",
      "List = ['String', 'True', '3.3', '1']\n",
      "The Integers in the list are  [1]\n"
     ]
    }
   ],
   "source": [
    "n=int(input(\"Enter the length of the list\"))\n",
    "print(\"Enter the elements of the list\")\n",
    "lst=[input() for i in range(n)]\n",
    "\n",
    "def return_only_integer(lst):\n",
    "    print(\"List =\",lst)\n",
    "    x=[]\n",
    "    x=[int(i) for i in lst if i.isnumeric()==True]\n",
    "    return x\n",
    "    \n",
    "y=return_only_integer(lst)\n",
    "print(\"The Integers in the list are \",y)"
   ]
  }
 ],
 "metadata": {
  "kernelspec": {
   "display_name": "Python 3",
   "language": "python",
   "name": "python3"
  },
  "language_info": {
   "codemirror_mode": {
    "name": "ipython",
    "version": 3
   },
   "file_extension": ".py",
   "mimetype": "text/x-python",
   "name": "python",
   "nbconvert_exporter": "python",
   "pygments_lexer": "ipython3",
   "version": "3.7.10"
  }
 },
 "nbformat": 4,
 "nbformat_minor": 5
}
