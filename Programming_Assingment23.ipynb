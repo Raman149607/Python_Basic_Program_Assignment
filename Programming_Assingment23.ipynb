{
 "cells": [
  {
   "cell_type": "markdown",
   "id": "documented-christopher",
   "metadata": {},
   "source": [
    "<h3>Question1</h3>"
   ]
  },
  {
   "cell_type": "markdown",
   "id": "bacterial-characterization",
   "metadata": {},
   "source": [
    "Create a function that takes a number as an argument and returns True or False depending on whether the number is symmetrical or not. A number is symmetrical when it is the same as its reverse.\n",
    "\n",
    "Examples\n",
    "\n",
    "is_symmetrical(7227) ➞ True\n",
    "\n",
    "is_symmetrical(12567) ➞ False\n",
    "\n",
    "is_symmetrical(44444444) ➞ True\n",
    "\n",
    "is_symmetrical(9939) ➞ False\n",
    "\n",
    "is_symmetrical(1112111) ➞ True"
   ]
  },
  {
   "cell_type": "code",
   "execution_count": 26,
   "id": "chicken-scoop",
   "metadata": {},
   "outputs": [
    {
     "name": "stdout",
     "output_type": "stream",
     "text": [
      "Enter the Number1112111\n",
      "1112111\n",
      "is_symmetrical(1112111) ->  True\n"
     ]
    }
   ],
   "source": [
    "def is_symmetrical(num):\n",
    "    print(num)\n",
    "    temp=num\n",
    "    rev=0\n",
    "    while temp!=0:\n",
    "        rem=int(temp%10)\n",
    "        rev=int(rev*10+rem)\n",
    "        temp=int(temp/10)\n",
    "    if num==rev:\n",
    "        return True\n",
    "    else:\n",
    "        return False\n",
    "                \n",
    "num=int(input(\"Enter the Number\"))\n",
    "print(\"is_symmetrical({}) -> \".format(num),is_symmetrical(num))"
   ]
  },
  {
   "cell_type": "markdown",
   "id": "dietary-worcester",
   "metadata": {},
   "source": [
    "<h3>Question2</h3>"
   ]
  },
  {
   "cell_type": "markdown",
   "id": "legitimate-footage",
   "metadata": {},
   "source": [
    "Given a string of numbers separated by a comma, return the product of the numbers.\n",
    "\n",
    "Examples\n",
    "\n",
    "multiply_nums(\"2, 3\") ➞ 6\n",
    "\n",
    "multiply_nums(\"1, 2, 3, 4\") ➞ 24\n",
    "\n",
    "multiply_nums(\"54, 75, 453, 0\") ➞ 0\n",
    "\n",
    "multiply_nums(\"10, -2\") ➞ -20"
   ]
  },
  {
   "cell_type": "code",
   "execution_count": 109,
   "id": "metric-notion",
   "metadata": {},
   "outputs": [
    {
     "name": "stdout",
     "output_type": "stream",
     "text": [
      "Enter the strig of numbers seperated by commas10,-2\n",
      "String of numbers is  10,-2\n",
      "multiply_nums(10,-2) -> -20\n"
     ]
    }
   ],
   "source": [
    "from functools import reduce\n",
    "str1=input(\"Enter the strig of numbers seperated by commas\")\n",
    "\n",
    "def multiply_nums(str1):\n",
    "    print(\"String of numbers is \",str1)\n",
    "    lst=str1.split(\",\")\n",
    "    lst1=[]\n",
    "    for i in lst:\n",
    "        lst1.append(int(i))\n",
    "    x=reduce((lambda a,b:a*b),lst1)\n",
    "    print(\"multiply_nums({}) ->\".format(str1),x)\n",
    "           \n",
    "           \n",
    "multiply_nums(str1)"
   ]
  },
  {
   "cell_type": "markdown",
   "id": "constitutional-ottawa",
   "metadata": {},
   "source": [
    "<h3>Question3</h3>"
   ]
  },
  {
   "cell_type": "markdown",
   "id": "controlled-basis",
   "metadata": {},
   "source": [
    "Question 3\n",
    "Create a function that squares every digit of a number.\n",
    "\n",
    "Examples\n",
    "\n",
    "square_digits(9119) ➞ 811181\n",
    "\n",
    "square_digits(2483) ➞ 416649\n",
    "\n",
    "square_digits(3212) ➞ 9414\n",
    "\n",
    "Notes\n",
    "\n",
    "The function receives an integer and must return an integer.\n"
   ]
  },
  {
   "cell_type": "code",
   "execution_count": 167,
   "id": "ordinary-suffering",
   "metadata": {},
   "outputs": [
    {
     "name": "stdout",
     "output_type": "stream",
     "text": [
      "Enter the number2483\n",
      "2483\n",
      "The square of every digit in a number is\n",
      "416649"
     ]
    }
   ],
   "source": [
    "n=int(input(\"Enter the number\"))\n",
    "\n",
    "def square_digits(n):\n",
    "    print(n)\n",
    "    temp=n\n",
    "    lst=[]\n",
    "    while temp!=0:\n",
    "        rem=int(temp%10)\n",
    "        lst.append(rem)\n",
    "        temp=int(temp/10)\n",
    "    lst.reverse()\n",
    "    print(\"The square of every digit in a number is\")\n",
    "    for i in lst:\n",
    "        x=i**2\n",
    "        print(x,end=\"\")\n",
    "    \n",
    "square_digits(n)"
   ]
  },
  {
   "cell_type": "markdown",
   "id": "seeing-softball",
   "metadata": {},
   "source": [
    "<h3>Question4</h3>"
   ]
  },
  {
   "cell_type": "markdown",
   "id": "conceptual-grace",
   "metadata": {},
   "source": [
    "Create a function that sorts a list and removes all duplicate items from it.\n",
    "\n",
    "Examples\n",
    "\n",
    "setify([1, 3, 3, 5, 5]) ➞ [1, 3, 5]\n",
    "\n",
    "setify([4, 4, 4, 4]) ➞ [4]\n",
    "\n",
    "setify([5, 7, 8, 9, 10, 15]) ➞ [5, 7, 8, 9, 10, 15]\n",
    "\n",
    "setify([3, 3, 3, 2, 1]) ➞ [1, 2, 3]"
   ]
  },
  {
   "cell_type": "code",
   "execution_count": 176,
   "id": "foster-myrtle",
   "metadata": {},
   "outputs": [
    {
     "name": "stdout",
     "output_type": "stream",
     "text": [
      "Enter the length of list5\n",
      "Enter the elements of the list\n",
      "3\n",
      "3\n",
      "3\n",
      "2\n",
      "1\n",
      "[3, 3, 3, 2, 1]\n",
      "setify([3, 3, 3, 2, 1]) ➞ [1, 2, 3]\n"
     ]
    }
   ],
   "source": [
    "n=int(input(\"Enter the length of list\"))\n",
    "print(\"Enter the elements of the list\")\n",
    "lst=[int(input())for i in range(n)]\n",
    "def setify(lst):\n",
    "    print(lst)\n",
    "    d=set(sorted(lst))\n",
    "    print(\"setify({}) ➞\".format(lst),list(d))\n",
    "setify(lst)"
   ]
  },
  {
   "cell_type": "markdown",
   "id": "higher-bristol",
   "metadata": {},
   "source": [
    "<h3>Question5</h3>"
   ]
  },
  {
   "cell_type": "markdown",
   "id": "white-kentucky",
   "metadata": {},
   "source": [
    "Create a function that returns the mean of all digits.\n",
    "\n",
    "Examples\n",
    "\n",
    "mean(42) ➞ 3\n",
    "\n",
    "mean(12345) ➞ 3\n",
    "\n",
    "mean(666) ➞ 6\n",
    "\n",
    "Notes\n",
    "\n",
    "The mean of all digits is the sum of digits / how many digits there are (e.g. mean of digits in 512 is (5+1+2)/3(number of digits) = 8/3=2).\n",
    "The mean will always be an integer.\n"
   ]
  },
  {
   "cell_type": "code",
   "execution_count": 185,
   "id": "orange-walnut",
   "metadata": {},
   "outputs": [
    {
     "name": "stdout",
     "output_type": "stream",
     "text": [
      "Enter the number = 12345\n",
      "12345\n",
      "The mean of all digits in a number 12345 is  3\n"
     ]
    }
   ],
   "source": [
    "n=int(input(\"Enter the number = \"))\n",
    "\n",
    "def mean(n):\n",
    "    print(n)\n",
    "    temp=n\n",
    "    sum=0\n",
    "    m=0\n",
    "    while(temp!=0):\n",
    "        rem=int(temp%10)\n",
    "        sum=sum+rem\n",
    "        temp=int(temp/10)\n",
    "        m=m+1\n",
    "    print(\"The mean of all digits in a number {} is \".format(n),int(sum/m))\n",
    "        \n",
    "mean(n)"
   ]
  },
  {
   "cell_type": "code",
   "execution_count": null,
   "id": "promotional-preservation",
   "metadata": {},
   "outputs": [],
   "source": []
  }
 ],
 "metadata": {
  "kernelspec": {
   "display_name": "Python 3",
   "language": "python",
   "name": "python3"
  },
  "language_info": {
   "codemirror_mode": {
    "name": "ipython",
    "version": 3
   },
   "file_extension": ".py",
   "mimetype": "text/x-python",
   "name": "python",
   "nbconvert_exporter": "python",
   "pygments_lexer": "ipython3",
   "version": "3.7.10"
  }
 },
 "nbformat": 4,
 "nbformat_minor": 5
}
